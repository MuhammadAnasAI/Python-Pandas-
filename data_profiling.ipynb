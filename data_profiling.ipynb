{
 "cells": [
  {
   "cell_type": "code",
   "execution_count": 1,
   "metadata": {},
   "outputs": [
    {
     "name": "stderr",
     "output_type": "stream",
     "text": [
      "c:\\Users\\Al Hafiz Enterprises\\miniconda3\\envs\\my_data\\Lib\\site-packages\\tqdm\\auto.py:21: TqdmWarning: IProgress not found. Please update jupyter and ipywidgets. See https://ipywidgets.readthedocs.io/en/stable/user_install.html\n",
      "  from .autonotebook import tqdm as notebook_tqdm\n"
     ]
    }
   ],
   "source": [
    "import pandas as pd\n",
    "import seaborn as sns\n",
    "import ydata_profiling as yd"
   ]
  },
  {
   "cell_type": "code",
   "execution_count": 2,
   "metadata": {},
   "outputs": [],
   "source": [
    "df = sns.load_dataset('titanic')"
   ]
  },
  {
   "cell_type": "code",
   "execution_count": 3,
   "metadata": {},
   "outputs": [
    {
     "name": "stderr",
     "output_type": "stream",
     "text": [
      "Summarize dataset:  77%|███████▋  | 17/22 [00:00<00:00, 45.20it/s, Calculate auto correlation]   c:\\Users\\Al Hafiz Enterprises\\miniconda3\\envs\\my_data\\Lib\\site-packages\\ydata_profiling\\model\\correlations.py:66: UserWarning: There was an attempt to calculate the auto correlation, but this failed.\n",
      "To hide this warning, disable the calculation\n",
      "(using `df.profile_report(correlations={\"auto\": {\"calculate\": False}})`\n",
      "If this is problematic for your use case, please report this as an issue:\n",
      "https://github.com/ydataai/ydata-profiling/issues\n",
      "(include the error message: 'could not convert string to float: 'no'')\n",
      "  warnings.warn(\n",
      "Summarize dataset: 100%|██████████| 41/41 [00:05<00:00,  7.75it/s, Completed]                 \n",
      "Generate report structure: 100%|██████████| 1/1 [00:09<00:00,  9.15s/it]\n",
      "Render HTML: 100%|██████████| 1/1 [00:02<00:00,  2.60s/it]\n",
      "Export report to file: 100%|██████████| 1/1 [00:00<00:00, 89.69it/s]\n"
     ]
    }
   ],
   "source": [
    "profile = yd.ProfileReport(df)\n",
    "df.profile_report(correlations={\"auto\": {\"calculate\": False}})\n",
    "profile.to_file(output_file='\\data_titanic.html')"
   ]
  },
  {
   "cell_type": "code",
   "execution_count": 5,
   "metadata": {},
   "outputs": [],
   "source": [
    "df = sns.load_dataset('iris')"
   ]
  },
  {
   "cell_type": "code",
   "execution_count": 11,
   "metadata": {},
   "outputs": [
    {
     "name": "stderr",
     "output_type": "stream",
     "text": [
      "Summarize dataset: 100%|██████████| 30/30 [00:04<00:00,  6.94it/s, Completed]                         \n",
      "Generate report structure: 100%|██████████| 1/1 [00:02<00:00,  2.82s/it]\n",
      "Render HTML: 100%|██████████| 1/1 [00:00<00:00,  1.72it/s]\n",
      "Export report to file: 100%|██████████| 1/1 [00:00<00:00, 64.01it/s]\n"
     ]
    }
   ],
   "source": [
    "profile = yd.ProfileReport(df)\n",
    "profile.to_file(output_file='./folder/ydata_iris.html')"
   ]
  },
  {
   "cell_type": "code",
   "execution_count": 12,
   "metadata": {},
   "outputs": [],
   "source": [
    "import pandas as pd\n",
    "import seaborn as sns\n",
    "import skimpy as skim"
   ]
  },
  {
   "cell_type": "code",
   "execution_count": null,
   "metadata": {},
   "outputs": [],
   "source": []
  }
 ],
 "metadata": {
  "kernelspec": {
   "display_name": "myenv",
   "language": "python",
   "name": "python3"
  },
  "language_info": {
   "codemirror_mode": {
    "name": "ipython",
    "version": 3
   },
   "file_extension": ".py",
   "mimetype": "text/x-python",
   "name": "python",
   "nbconvert_exporter": "python",
   "pygments_lexer": "ipython3",
   "version": "3.9.20"
  }
 },
 "nbformat": 4,
 "nbformat_minor": 2
}
